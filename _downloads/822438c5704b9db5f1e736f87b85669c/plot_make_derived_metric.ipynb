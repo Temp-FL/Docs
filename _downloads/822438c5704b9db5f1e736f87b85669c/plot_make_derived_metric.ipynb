{
  "cells": [
    {
      "cell_type": "code",
      "execution_count": null,
      "metadata": {
        "collapsed": false
      },
      "outputs": [],
      "source": [
        "%matplotlib inline"
      ]
    },
    {
      "cell_type": "markdown",
      "metadata": {},
      "source": [
        "  --------------------------\r\n  Making Derived Metrics 1\r\n  --------------------------\r\n"
      ]
    },
    {
      "cell_type": "markdown",
      "metadata": {},
      "source": [
        "This notebook demonstrates the use of the\r\n`fairlearn.metrics.make_derived_metric`{.interpreted-text role=\"func\"}\r\nfunction. Many higher-order machine learning algorithms (such as\r\nhyperparameter tuners) make use of scalar metrics when deciding how to\r\nproceed. While the `fairlearn.metrics.MetricFrame`{.interpreted-text\r\nrole=\"class\"} has the ability to produce such scalars through its\r\naggregation functions, its API does not conform to that usually expected\r\nby these algorithms. The\r\n`~fairlearn.metrics.make_derived_metric`{.interpreted-text role=\"func\"}\r\nfunction exists to bridge this gap.\r\n\r\n# Getting the Data\r\n\r\n*This section may be skipped. It simply creates a dataset for\r\nillustrative purposes*\r\n\r\nWe will use the well-known UCI \\'Adult\\' dataset as the basis of this\r\ndemonstration. This is not for a lending scenario, but we will regard it\r\nas one for the purposes of this example. We will use the existing\r\n\\'race\\' and \\'sex\\' columns (trimming the former to three unique\r\nvalues), and manufacture credit score bands and loan sizes from other\r\ncolumns. We start with some uncontroversial [import]{.title-ref}\r\nstatements:\r\n"
      ]
    },
    {
      "cell_type": "code",
      "execution_count": null,
      "metadata": {
        "collapsed": false
      },
      "outputs": [],
      "source": [
        "import functools\nimport numpy as np\n\nimport sklearn.metrics as skm\nfrom sklearn.compose import ColumnTransformer\nfrom sklearn.datasets import fetch_openml\nfrom sklearn.impute import SimpleImputer\nfrom sklearn.linear_model import LogisticRegression\nfrom sklearn.model_selection import train_test_split\nfrom sklearn.preprocessing import StandardScaler, OneHotEncoder\nfrom sklearn.compose import make_column_selector as selector\nfrom sklearn.pipeline import Pipeline\nfrom fairlearn.metrics import MetricFrame, make_derived_metric\nfrom fairlearn.metrics import accuracy_score_group_min"
      ]
    },
    {
      "cell_type": "markdown",
      "metadata": {},
      "source": [
        "Next, we import the data, dropping any rows which are missing data:\r\n"
      ]
    },
    {
      "cell_type": "code",
      "execution_count": null,
      "metadata": {
        "collapsed": false
      },
      "outputs": [],
      "source": [
        "print(\"Hello world\")"
      ]
    }
  ],
  "metadata": {
    "kernelspec": {
      "display_name": "Python 3",
      "language": "python",
      "name": "python3"
    },
    "language_info": {
      "codemirror_mode": {
        "name": "ipython",
        "version": 3
      },
      "file_extension": ".py",
      "mimetype": "text/x-python",
      "name": "python",
      "nbconvert_exporter": "python",
      "pygments_lexer": "ipython3",
      "version": "3.8.11"
    }
  },
  "nbformat": 4,
  "nbformat_minor": 0
}