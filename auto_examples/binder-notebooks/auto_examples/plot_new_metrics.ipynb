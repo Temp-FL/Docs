{
  "cells": [
    {
      "cell_type": "code",
      "execution_count": null,
      "metadata": {
        "collapsed": false
      },
      "outputs": [],
      "source": [
        "%matplotlib inline"
      ]
    },
    {
      "cell_type": "markdown",
      "metadata": {},
      "source": [
        "# Metrics with Multiple Features\r\n"
      ]
    },
    {
      "cell_type": "markdown",
      "metadata": {},
      "source": [
        "This notebook demonstrates the new API for metrics, which supports\r\nmultiple sensitive and conditional features. This example does not\r\ncontain a proper discussion of how fairness relates to the dataset used,\r\nalthough it does highlight issues which users may want to consider when\r\nanalysing their datasets.\r\n\r\nWe are going to consider a lending scenario, supposing that we have a\r\nmodel which predicts whether or not a particular customer will repay a\r\nloan. This could be used as the basis of deciding whether or not to\r\noffer that customer a loan. With traditional metrics, we would assess\r\nthe model using:\r\n\r\n-   The \\'true\\' values from the test set\r\n-   The model predictions from the test set\r\n\r\nOur fairness metrics compute group-based fairness statistics. To use\r\nthese, we also need categorical columns from the test set. For this\r\nexample, we will include:\r\n\r\n-   The sex of each individual (two unique values)\r\n-   The race of each individual (three unique values)\r\n-   The credit score band of each individual (three unique values)\r\n-   Whether the loan is considered \\'large\\' or \\'small\\'\r\n\r\nAn individual\\'s sex and race should not affect a lending decision, but\r\nit would be legitimate to consider an individual\\'s credit score and the\r\nrelative size of the loan which they desired.\r\n\r\nA real scenario will be more complicated, but this will serve to\r\nillustrate the use of the new metrics.\r\n\r\n# Getting the Data\r\n\r\n*This section may be skipped. It simply creates a dataset for\r\nillustrative purposes*\r\n\r\nWe will use the well-known UCI \\'Adult\\' dataset as the basis of this\r\ndemonstration. This is not for a lending scenario, but we will regard it\r\nas one for the purposes of this example. We will use the existing\r\n\\'race\\' and \\'sex\\' columns (trimming the former to three unique\r\nvalues), and manufacture credit score bands and loan sizes from other\r\ncolumns. We start with some uncontroversial [import]{.title-ref}\r\nstatements:\r\n"
      ]
    },
    {
      "cell_type": "code",
      "execution_count": null,
      "metadata": {
        "collapsed": false
      },
      "outputs": [],
      "source": [
        "import functools\nimport numpy as np\n\nimport sklearn.metrics as skm\nfrom sklearn.compose import ColumnTransformer\nfrom sklearn.datasets import fetch_openml\nfrom sklearn.impute import SimpleImputer\nfrom sklearn.linear_model import LogisticRegression\nfrom sklearn.model_selection import train_test_split\nfrom sklearn.preprocessing import StandardScaler, OneHotEncoder\nfrom sklearn.compose import make_column_selector as selector\nfrom sklearn.pipeline import Pipeline\n\nfrom fairlearn.metrics import MetricFrame\nfrom fairlearn.metrics import selection_rate, count"
      ]
    },
    {
      "cell_type": "markdown",
      "metadata": {},
      "source": [
        "Next, we import the data:\r\n"
      ]
    },
    {
      "cell_type": "code",
      "execution_count": null,
      "metadata": {
        "collapsed": false
      },
      "outputs": [],
      "source": [
        "data = fetch_openml(data_id=1590, as_frame=True)\nX_raw = data.data\ny = (data.target == \">50K\") * 1"
      ]
    },
    {
      "cell_type": "markdown",
      "metadata": {},
      "source": [
        "For purposes of clarity, we consolidate the \\'race\\' column to have\r\nthree unique values:\r\n"
      ]
    },
    {
      "cell_type": "code",
      "execution_count": null,
      "metadata": {
        "collapsed": false
      },
      "outputs": [],
      "source": [
        "def race_transform(input_str):\n    \"\"\"Reduce values to White, Black and Other.\"\"\"\n    result = \"Other\"\n    if input_str == \"White\" or input_str == \"Black\":\n        result = input_str\n    return result\n\n\nX_raw[\"race\"] = (\n    X_raw[\"race\"].map(race_transform).fillna(\"Other\").astype(\"category\")\n)\nprint(np.unique(X_raw[\"race\"]))"
      ]
    },
    {
      "cell_type": "markdown",
      "metadata": {},
      "source": [
        "Now, we manufacture the columns for the credit score band and requested\r\nloan size. These are wholly constructed, and not part of the actual\r\ndataset in any way. They are simply for illustrative purposes.\r\n"
      ]
    },
    {
      "cell_type": "code",
      "execution_count": null,
      "metadata": {
        "collapsed": false
      },
      "outputs": [],
      "source": [
        "def marriage_transform(m_s_string):\n    \"\"\"Perform some simple manipulations.\"\"\"\n    result = \"Low\"\n    if m_s_string.startswith(\"Married\"):\n        result = \"Medium\"\n    elif m_s_string.startswith(\"Widowed\"):\n        result = \"High\"\n    return result\n\n\ndef occupation_transform(occ_string):\n    \"\"\"Perform some simple manipulations.\"\"\"\n    result = \"Small\"\n    if occ_string.startswith(\"Machine\"):\n        result = \"Large\"\n    return result\n\n\ncol_credit = X_raw[\"marital-status\"].map(marriage_transform).fillna(\"Low\")\ncol_credit.name = \"Credit Score\"\ncol_loan_size = X_raw[\"occupation\"].map(occupation_transform).fillna(\"Small\")\ncol_loan_size.name = \"Loan Size\"\n\nA = X_raw[[\"race\", \"sex\"]]\nA[\"Credit Score\"] = col_credit\nA[\"Loan Size\"] = col_loan_size\nA"
      ]
    },
    {
      "cell_type": "markdown",
      "metadata": {},
      "source": [
        "Now that we have imported our dataset and manufactured a few features,\r\nwe can perform some more conventional processing. To avoid the problem\r\nof [data\r\nleakage](https://en.wikipedia.org/wiki/Leakage_(machine_learning)), we\r\nneed to split the data into training and test sets before applying any\r\ntransforms or scaling:\r\n"
      ]
    },
    {
      "cell_type": "code",
      "execution_count": null,
      "metadata": {
        "collapsed": false
      },
      "outputs": [],
      "source": [
        "(X_train, X_test, y_train, y_test, A_train, A_test) = train_test_split(\n    X_raw, y, A, test_size=0.3, random_state=54321, stratify=y\n)\n\n# Ensure indices are aligned between X, y and A,\n# after all the slicing and splitting of DataFrames\n# and Series\n\nX_train = X_train.reset_index(drop=True)\nX_test = X_test.reset_index(drop=True)\ny_train = y_train.reset_index(drop=True)\ny_test = y_test.reset_index(drop=True)\nA_train = A_train.reset_index(drop=True)\nA_test = A_test.reset_index(drop=True)"
      ]
    },
    {
      "cell_type": "markdown",
      "metadata": {},
      "source": [
        "Next, we build two `~sklearn.pipeline.Pipeline`{.interpreted-text\r\nrole=\"class\"} objects to process the columns, one for numeric data, and\r\nthe other for categorical data. Both impute missing values; the\r\ndifference is whether the data are scaled (numeric columns) or one-hot\r\nencoded (categorical columns). Imputation of missing values should\r\ngenerally be done with care, since it could potentially introduce\r\nbiases. Of course, removing rows with missing data could also cause\r\ntrouble, if particular subgroups have poorer data quality.\r\n"
      ]
    },
    {
      "cell_type": "code",
      "execution_count": null,
      "metadata": {
        "collapsed": false
      },
      "outputs": [],
      "source": [
        "numeric_transformer = Pipeline(\n    steps=[(\"impute\", SimpleImputer()), (\"scaler\", StandardScaler())]\n)\ncategorical_transformer = Pipeline(\n    [\n        (\"impute\", SimpleImputer(strategy=\"most_frequent\")),\n        (\"ohe\", OneHotEncoder(handle_unknown=\"ignore\"))\n    ]\n)\npreprocessor = ColumnTransformer(\n    transformers=[\n        (\"num\", numeric_transformer, selector(dtype_exclude=\"category\")),\n        (\"cat\", categorical_transformer, selector(dtype_include=\"category\"))\n    ]\n)"
      ]
    },
    {
      "cell_type": "markdown",
      "metadata": {},
      "source": [
        "With our preprocessor defined, we can now build a new pipeline which\r\nincludes an Estimator:\r\n"
      ]
    },
    {
      "cell_type": "code",
      "execution_count": null,
      "metadata": {
        "collapsed": false
      },
      "outputs": [],
      "source": [
        "unmitigated_predictor = Pipeline(\n    steps=[\n        (\"preprocessor\", preprocessor),\n        (\n            \"classifier\",\n            LogisticRegression(solver=\"liblinear\", fit_intercept=True)\n        )\n    ]\n)"
      ]
    },
    {
      "cell_type": "markdown",
      "metadata": {},
      "source": [
        "With the pipeline fully defined, we can first train it with the training\r\ndata, and then generate predictions from the test data.\r\n"
      ]
    },
    {
      "cell_type": "code",
      "execution_count": null,
      "metadata": {
        "collapsed": false
      },
      "outputs": [],
      "source": [
        "unmitigated_predictor.fit(X_train, y_train)\ny_pred = unmitigated_predictor.predict(X_test)"
      ]
    },
    {
      "cell_type": "markdown",
      "metadata": {},
      "source": [
        "# Analysing the Model with Metrics\r\n\r\nAfter our data manipulations and model training, we have the following\r\nfrom our test set:\r\n\r\n-   A vector of true values called `y_test`\r\n-   A vector of model predictions called `y_pred`\r\n-   A DataFrame of categorical features relevant to fairness called\r\n    `A_test`\r\n\r\nIn a traditional model analysis, we would now look at some metrics\r\nevaluated on the entire dataset. Suppose in this case, the relevant\r\nmetrics are `fairlearn.metrics.selection_rate`{.interpreted-text\r\nrole=\"func\"} and `sklearn.metrics.fbeta_score`{.interpreted-text\r\nrole=\"func\"} (with `beta=0.6`). We can evaluate these metrics directly:\r\n"
      ]
    },
    {
      "cell_type": "code",
      "execution_count": null,
      "metadata": {
        "collapsed": false
      },
      "outputs": [],
      "source": [
        "print(\"Selection Rate:\", selection_rate(y_test, y_pred))\nprint(\"fbeta:\", skm.fbeta_score(y_test, y_pred, beta=0.6))"
      ]
    },
    {
      "cell_type": "markdown",
      "metadata": {},
      "source": [
        "We know that there are sensitive features in our data, and we want to\r\nensure that we\\'re not harming individuals due to membership in any of\r\nthese groups. For this purpose, Fairlearn provides the\r\n`fairlearn.metrics.MetricFrame`{.interpreted-text role=\"class\"} class.\r\nLet us construct an instance of this class, and then look at its\r\ncapabilities:\r\n"
      ]
    },
    {
      "cell_type": "code",
      "execution_count": null,
      "metadata": {
        "collapsed": false
      },
      "outputs": [],
      "source": [
        "fbeta_06 = functools.partial(skm.fbeta_score, beta=0.6, zero_division=1)\n\nmetric_fns = {\n    \"selection_rate\": selection_rate,\n    \"fbeta_06\": fbeta_06,\n    \"count\": count\n}\n\ngrouped_on_sex = MetricFrame(\n    metrics=metric_fns,\n    y_true=y_test,\n    y_pred=y_pred,\n    sensitive_features=A_test[\"sex\"]\n)"
      ]
    },
    {
      "cell_type": "markdown",
      "metadata": {},
      "source": [
        "The `fairlearn.metrics.MetricFrame`{.interpreted-text role=\"class\"}\r\nobject requires a minimum of four arguments:\r\n\r\n1.  The underlying metric function(s) to be evaluated\r\n2.  The true values\r\n3.  The predicted values\r\n4.  The sensitive feature values\r\n\r\nThese are all passed as arguments to the constructor. If more than one\r\nunderlying metric is required (as in this case), then we must provide\r\nthem in a dictionary.\r\n\r\nThe underlying metrics must have a signature `fn(y_true, y_pred)`, so we\r\nhave to use `functools.partial`{.interpreted-text role=\"func\"} on\r\n`fbeta_score()` to furnish `beta=0.6` (we will show how to pass in extra\r\narray arguments such as sample weights shortly).\r\n\r\nWe will now take a closer look at the\r\n`fairlearn.metrics.MetricFrame`{.interpreted-text role=\"class\"} object.\r\nFirst, there is the `overall` property, which contains the metrics\r\nevaluated on the entire dataset. We see that this contains the same\r\nvalues calculated above:\r\n"
      ]
    },
    {
      "cell_type": "code",
      "execution_count": null,
      "metadata": {
        "collapsed": false
      },
      "outputs": [],
      "source": [
        "assert grouped_on_sex.overall[\"selection_rate\"] == selection_rate(\n    y_test, y_pred\n)\nassert grouped_on_sex.overall[\"fbeta_06\"] == skm.fbeta_score(\n    y_test, y_pred, beta=0.6\n)\nprint(grouped_on_sex.overall)"
      ]
    },
    {
      "cell_type": "markdown",
      "metadata": {},
      "source": [
        "The other property in the\r\n`fairlearn.metrics.MetricFrame`{.interpreted-text role=\"class\"} object\r\nis `by_group`. This contains the metrics evaluated on each subgroup\r\ndefined by the categories in the `sensitive_features=` argument. Note\r\nthat `fairlearn.metrics.count`{.interpreted-text role=\"func\"} can be\r\nused to display the number of data points in each subgroup. In this\r\ncase, we have results for males and females:\r\n"
      ]
    },
    {
      "cell_type": "code",
      "execution_count": null,
      "metadata": {
        "collapsed": false
      },
      "outputs": [],
      "source": [
        "grouped_on_sex.by_group"
      ]
    },
    {
      "cell_type": "markdown",
      "metadata": {},
      "source": [
        "We can immediately see a substantial disparity in the selection rate\r\nbetween males and females.\r\n\r\nWe can also create another\r\n`fairlearn.metrics.MetricFrame`{.interpreted-text role=\"class\"} object\r\nusing race as the sensitive feature:\r\n"
      ]
    },
    {
      "cell_type": "code",
      "execution_count": null,
      "metadata": {
        "collapsed": false
      },
      "outputs": [],
      "source": [
        "grouped_on_race = MetricFrame(\n    metrics=metric_fns,\n    y_true=y_test,\n    y_pred=y_pred,\n    sensitive_features=A_test[\"race\"]\n)"
      ]
    },
    {
      "cell_type": "markdown",
      "metadata": {},
      "source": [
        "The `overall` property is unchanged:\r\n"
      ]
    },
    {
      "cell_type": "code",
      "execution_count": null,
      "metadata": {
        "collapsed": false
      },
      "outputs": [],
      "source": [
        "assert (grouped_on_sex.overall == grouped_on_race.overall).all()"
      ]
    },
    {
      "cell_type": "markdown",
      "metadata": {},
      "source": [
        "The `by_group` property now contains the metrics evaluated based on the\r\n\\'race\\' column:\r\n"
      ]
    },
    {
      "cell_type": "code",
      "execution_count": null,
      "metadata": {
        "collapsed": false
      },
      "outputs": [],
      "source": [
        "grouped_on_race.by_group"
      ]
    },
    {
      "cell_type": "markdown",
      "metadata": {},
      "source": [
        "We see that there is also a significant disparity in selection rates\r\nwhen grouping by race.\r\n"
      ]
    },
    {
      "cell_type": "markdown",
      "metadata": {},
      "source": [
        "# Sample weights and other arrays\r\n\r\nWe noted above that the underlying metric functions passed to the\r\n`fairlearn.metrics.MetricFrame`{.interpreted-text role=\"class\"}\r\nconstructor need to be of the form `fn(y_true, y_pred)` - we do not\r\nsupport scalar arguments such as `pos_label=` or `beta=` in the\r\nconstructor. Such arguments should be bound into a new function using\r\n`functools.partial`{.interpreted-text role=\"func\"}, and the result\r\npassed in. However, we do support arguments which have one entry for\r\neach sample, with an array of sample weights being the most common\r\nexample. These are divided into subgroups along with `y_true` and\r\n`y_pred`, and passed along to the underlying metric.\r\n\r\nTo use these arguments, we pass in a dictionary as the `sample_params=`\r\nargument of the constructor. Let us generate some random weights, and\r\npass these along:\r\n"
      ]
    },
    {
      "cell_type": "code",
      "execution_count": null,
      "metadata": {
        "collapsed": false
      },
      "outputs": [],
      "source": [
        "random_weights = np.random.rand(len(y_test))\n\nexample_sample_params = {\n    \"selection_rate\": {\"sample_weight\": random_weights},\n    \"fbeta_06\": {\"sample_weight\": random_weights}\n}\n\n\ngrouped_with_weights = MetricFrame(\n    metrics=metric_fns,\n    y_true=y_test,\n    y_pred=y_pred,\n    sensitive_features=A_test[\"sex\"],\n    sample_params=example_sample_params\n)"
      ]
    },
    {
      "cell_type": "markdown",
      "metadata": {},
      "source": [
        "We can inspect the overall values, and check they are as expected:\r\n"
      ]
    },
    {
      "cell_type": "code",
      "execution_count": null,
      "metadata": {
        "collapsed": false
      },
      "outputs": [],
      "source": [
        "assert grouped_with_weights.overall[\"selection_rate\"] == selection_rate(\n    y_test, y_pred, sample_weight=random_weights\n)\nassert grouped_with_weights.overall[\"fbeta_06\"] == skm.fbeta_score(\n    y_test, y_pred, beta=0.6, sample_weight=random_weights\n)\nprint(grouped_with_weights.overall)"
      ]
    },
    {
      "cell_type": "markdown",
      "metadata": {},
      "source": [
        "We can also see the effect on the metric being evaluated on the\r\nsubgroups:\r\n"
      ]
    },
    {
      "cell_type": "code",
      "execution_count": null,
      "metadata": {
        "collapsed": false
      },
      "outputs": [],
      "source": [
        "grouped_with_weights.by_group"
      ]
    },
    {
      "cell_type": "markdown",
      "metadata": {},
      "source": [
        "# Quantifying Disparities\r\n\r\nWe now know that our model is selecting individuals who are female far\r\nless often than individuals who are male. There is a similar effect when\r\nexamining the results by race, with blacks being selected far less often\r\nthan whites (and those classified as \\'other\\'). However, there are many\r\ncases where presenting all these numbers at once will not be useful (for\r\nexample, a high level dashboard which is monitoring model performance).\r\nFairlearn provides several means of aggregating metrics across the\r\nsubgroups, so that disparities can be readily quantified.\r\n\r\nThe simplest of these aggregations is `group_min()`, which reports the\r\nminimum value seen for a subgroup for each underlying metric (we also\r\nprovide `group_max()`). This is useful if there is a mandate that \\\"no\r\nsubgroup should have an `fbeta_score()` of less than 0.6.\\\" We can\r\nevaluate the minimum values easily:\r\n"
      ]
    },
    {
      "cell_type": "code",
      "execution_count": null,
      "metadata": {
        "collapsed": false
      },
      "outputs": [],
      "source": [
        "grouped_on_race.group_min()"
      ]
    },
    {
      "cell_type": "markdown",
      "metadata": {},
      "source": [
        "As noted above, the selection rates varies greatly by race and by sex.\r\nThis can be quantified in terms of a difference between the subgroup\r\nwith the highest value of the metric, and the subgroup with the lowest\r\nvalue. For this, we provide the method\r\n`difference(method='between_groups)`:\r\n"
      ]
    },
    {
      "cell_type": "code",
      "execution_count": null,
      "metadata": {
        "collapsed": false
      },
      "outputs": [],
      "source": [
        "grouped_on_race.difference(method=\"between_groups\")"
      ]
    },
    {
      "cell_type": "markdown",
      "metadata": {},
      "source": [
        "We can also evaluate the difference relative to the corresponding\r\noverall value of the metric. In this case we take the absolute value, so\r\nthat the result is always positive:\r\n"
      ]
    },
    {
      "cell_type": "code",
      "execution_count": null,
      "metadata": {
        "collapsed": false
      },
      "outputs": [],
      "source": [
        "grouped_on_race.difference(method=\"to_overall\")"
      ]
    },
    {
      "cell_type": "markdown",
      "metadata": {},
      "source": [
        "There are situations where knowing the ratios of the metrics evaluated\r\non the subgroups is more useful. For this we have the `ratio()` method.\r\nWe can take the ratios between the minimum and maximum values of each\r\nmetric:\r\n"
      ]
    },
    {
      "cell_type": "code",
      "execution_count": null,
      "metadata": {
        "collapsed": false
      },
      "outputs": [],
      "source": [
        "grouped_on_race.ratio(method=\"between_groups\")"
      ]
    },
    {
      "cell_type": "markdown",
      "metadata": {},
      "source": [
        "We can also compute the ratios relative to the overall value for each\r\nmetric. Analogous to the differences, the ratios are always in the range\r\n$[0,1]$:\r\n"
      ]
    },
    {
      "cell_type": "code",
      "execution_count": null,
      "metadata": {
        "collapsed": false
      },
      "outputs": [],
      "source": [
        "grouped_on_race.ratio(method=\"to_overall\")"
      ]
    },
    {
      "cell_type": "markdown",
      "metadata": {},
      "source": [
        "# Intersections of Features\r\n\r\nSo far we have only considered a single sensitive feature at a time, and\r\nwe have already found some serious issues in our example data. However,\r\nsometimes serious issues can be hiding in intersections of features. For\r\nexample, the [Gender Shades\r\nproject](https://www.media.mit.edu/projects/gender-shades/overview/)\r\nfound that facial recognition algorithms performed worse for blacks than\r\nwhites, and also worse for women than men (despite overall high accuracy\r\nscore). Moreover, performance on black females was *terrible*. We can\r\nexamine the intersections of sensitive features by passing multiple\r\ncolumns to the `fairlearn.metrics.MetricFrame`{.interpreted-text\r\nrole=\"class\"} constructor:\r\n"
      ]
    },
    {
      "cell_type": "code",
      "execution_count": null,
      "metadata": {
        "collapsed": false
      },
      "outputs": [],
      "source": [
        "grouped_on_race_and_sex = MetricFrame(\n    metrics=metric_fns,\n    y_true=y_test,\n    y_pred=y_pred,\n    sensitive_features=A_test[[\"race\", \"sex\"]]\n)"
      ]
    },
    {
      "cell_type": "markdown",
      "metadata": {},
      "source": [
        "The overall values are unchanged, but the `by_group` table now shows the\r\nintersections between subgroups:\r\n"
      ]
    },
    {
      "cell_type": "code",
      "execution_count": null,
      "metadata": {
        "collapsed": false
      },
      "outputs": [],
      "source": [
        "assert (grouped_on_race_and_sex.overall == grouped_on_race.overall).all()\ngrouped_on_race_and_sex.by_group"
      ]
    },
    {
      "cell_type": "markdown",
      "metadata": {},
      "source": [
        "The aggregations are still performed across all subgroups for each\r\nmetric, so each continues to reduce to a single value. If we look at the\r\n`group_min()`, we see that we violate the mandate we specified for the\r\n`fbeta_score()` suggested above (for females with a race of \\'Other\\' in\r\nfact):\r\n"
      ]
    },
    {
      "cell_type": "code",
      "execution_count": null,
      "metadata": {
        "collapsed": false
      },
      "outputs": [],
      "source": [
        "grouped_on_race_and_sex.group_min()"
      ]
    },
    {
      "cell_type": "markdown",
      "metadata": {},
      "source": [
        "Looking at the `ratio()` method, we see that the disparity is worse\r\n(specifically between white males and black females, if we check in the\r\n`by_group` table):\r\n"
      ]
    },
    {
      "cell_type": "code",
      "execution_count": null,
      "metadata": {
        "collapsed": false
      },
      "outputs": [],
      "source": [
        "grouped_on_race_and_sex.ratio(method=\"between_groups\")"
      ]
    },
    {
      "cell_type": "markdown",
      "metadata": {},
      "source": [
        "# Control Features\r\n\r\nThere is a further way we can slice up our data. We have (*completely\r\nmade up*) features for the individuals\\' credit scores (in three bands)\r\nand also the size of the loan requested (large or small). In our loan\r\nscenario, it is acceptable that individuals with high credit scores are\r\nselected more often than individuals with low credit scores. However,\r\nwithin each credit score band, we do not want a disparity between (say)\r\nblack females and white males. To example these cases, we have the\r\nconcept of *control features*.\r\n\r\nControl features are introduced by the `control_features=` argument to\r\nthe `fairlearn.metrics.MetricFrame`{.interpreted-text role=\"class\"}\r\nobject:\r\n"
      ]
    },
    {
      "cell_type": "code",
      "execution_count": null,
      "metadata": {
        "collapsed": false
      },
      "outputs": [],
      "source": [
        "cond_credit_score = MetricFrame(\n    metrics=metric_fns,\n    y_true=y_test,\n    y_pred=y_pred,\n    sensitive_features=A_test[[\"race\", \"sex\"]],\n    control_features=A_test[\"Credit Score\"]\n)"
      ]
    },
    {
      "cell_type": "markdown",
      "metadata": {},
      "source": [
        "This has an immediate effect on the `overall` property. Instead of\r\nhaving one value for each metric, we now have a value for each unique\r\nvalue of the control feature:\r\n"
      ]
    },
    {
      "cell_type": "code",
      "execution_count": null,
      "metadata": {
        "collapsed": false
      },
      "outputs": [],
      "source": [
        "cond_credit_score.overall"
      ]
    },
    {
      "cell_type": "markdown",
      "metadata": {},
      "source": [
        "The `by_group` property is similarly expanded:\r\n"
      ]
    },
    {
      "cell_type": "code",
      "execution_count": null,
      "metadata": {
        "collapsed": false
      },
      "outputs": [],
      "source": [
        "cond_credit_score.by_group"
      ]
    },
    {
      "cell_type": "markdown",
      "metadata": {},
      "source": [
        "The aggregates are also evaluated once for each group identified by the\r\ncontrol feature:\r\n"
      ]
    },
    {
      "cell_type": "code",
      "execution_count": null,
      "metadata": {
        "collapsed": false
      },
      "outputs": [],
      "source": [
        "cond_credit_score.group_min()"
      ]
    },
    {
      "cell_type": "markdown",
      "metadata": {},
      "source": [
        "And:\r\n"
      ]
    },
    {
      "cell_type": "code",
      "execution_count": null,
      "metadata": {
        "collapsed": false
      },
      "outputs": [],
      "source": [
        "cond_credit_score.ratio(method=\"between_groups\")"
      ]
    },
    {
      "cell_type": "markdown",
      "metadata": {},
      "source": [
        "In our data, we see that we have a dearth of positive results for high\r\nincome non-whites, which significantly affects the aggregates.\r\n\r\nWe can continue adding more control features:\r\n"
      ]
    },
    {
      "cell_type": "code",
      "execution_count": null,
      "metadata": {
        "collapsed": false
      },
      "outputs": [],
      "source": [
        "cond_both = MetricFrame(\n    metrics=metric_fns,\n    y_true=y_test,\n    y_pred=y_pred,\n    sensitive_features=A_test[[\"race\", \"sex\"]],\n    control_features=A_test[[\"Loan Size\", \"Credit Score\"]]\n)"
      ]
    },
    {
      "cell_type": "markdown",
      "metadata": {},
      "source": [
        "The `overall` property now splits into more values:\r\n"
      ]
    },
    {
      "cell_type": "code",
      "execution_count": null,
      "metadata": {
        "collapsed": false
      },
      "outputs": [],
      "source": [
        "cond_both.overall"
      ]
    },
    {
      "cell_type": "markdown",
      "metadata": {},
      "source": [
        "As does the `by_groups` property, where `NaN` values indicate that there\r\nwere no samples in the cell:\r\n"
      ]
    },
    {
      "cell_type": "code",
      "execution_count": null,
      "metadata": {
        "collapsed": false
      },
      "outputs": [],
      "source": [
        "cond_both.by_group"
      ]
    },
    {
      "cell_type": "markdown",
      "metadata": {},
      "source": [
        "The aggregates behave similarly. By this point, we are having\r\nsignificant issues with under-populated intersections. Consider:\r\n"
      ]
    },
    {
      "cell_type": "code",
      "execution_count": null,
      "metadata": {
        "collapsed": false
      },
      "outputs": [],
      "source": [
        "def member_counts(y_true, y_pred):\n    assert len(y_true) == len(y_pred)\n    return len(y_true)\n\n\ncounts = MetricFrame(\n    metrics=member_counts,\n    y_true=y_test,\n    y_pred=y_pred,\n    sensitive_features=A_test[[\"race\", \"sex\"]],\n    control_features=A_test[[\"Loan Size\", \"Credit Score\"]]\n)\n\ncounts.by_group"
      ]
    },
    {
      "cell_type": "markdown",
      "metadata": {},
      "source": [
        "Recall that `NaN` indicates that there were no individuals in a cell -\r\n`member_counts()` will not even have been called.\r\n"
      ]
    },
    {
      "cell_type": "markdown",
      "metadata": {},
      "source": [
        "# Exporting from MetricFrame\r\n\r\nSometimes, we need to extract our data for use in other tools. For this,\r\nwe can use the :py`pandas.DataFrame.to_csv`{.interpreted-text\r\nrole=\"meth\"} method, since the\r\n:py`~fairlearn.metrics.MetricFrame.by_group`{.interpreted-text\r\nrole=\"meth\"} property will be a `pandas.DataFrame`{.interpreted-text\r\nrole=\"class\"} (or in a few cases, it will be a\r\n`pandas.Series`{.interpreted-text role=\"class\"}, but that has a similar\r\n:py`~pandas.Series.to_csv`{.interpreted-text role=\"meth\"} method):\r\n"
      ]
    },
    {
      "cell_type": "code",
      "execution_count": null,
      "metadata": {
        "collapsed": false
      },
      "outputs": [],
      "source": [
        "csv_output = cond_credit_score.by_group.to_csv()\nprint(csv_output)"
      ]
    },
    {
      "cell_type": "markdown",
      "metadata": {},
      "source": [
        "The :py`pandas.DataFrame.to_csv`{.interpreted-text role=\"meth\"} method\r\nhas a large number of arguments to control the exported CSV. For\r\nexample, it can write directly to a CSV file, rather than returning a\r\nstring (as shown above).\r\n\r\nThe `~fairlearn.metrics.MetricFrame.overall`{.interpreted-text\r\nrole=\"meth\"} property can be handled similarly, in the cases that it is\r\nnot a scalar.\r\n"
      ]
    }
  ],
  "metadata": {
    "kernelspec": {
      "display_name": "Python 3",
      "language": "python",
      "name": "python3"
    },
    "language_info": {
      "codemirror_mode": {
        "name": "ipython",
        "version": 3
      },
      "file_extension": ".py",
      "mimetype": "text/x-python",
      "name": "python",
      "nbconvert_exporter": "python",
      "pygments_lexer": "ipython3",
      "version": "3.8.11"
    }
  },
  "nbformat": 4,
  "nbformat_minor": 0
}